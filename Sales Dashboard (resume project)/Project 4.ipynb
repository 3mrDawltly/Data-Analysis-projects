{
 "cells": [
  {
   "cell_type": "code",
   "execution_count": 1,
   "id": "0840f344",
   "metadata": {
    "ExecuteTime": {
     "end_time": "2023-07-25T17:12:45.784579Z",
     "start_time": "2023-07-25T17:12:45.776806Z"
    }
   },
   "outputs": [
    {
     "data": {
      "text/html": [
       "<style>.container {width: 100% !important}</style>"
      ],
      "text/plain": [
       "<IPython.core.display.HTML object>"
      ]
     },
     "metadata": {},
     "output_type": "display_data"
    }
   ],
   "source": [
    "from IPython.display import HTML,display\n",
    "display(HTML(\"<style>.container {width: 100% !important}</style>\"))"
   ]
  },
  {
   "cell_type": "code",
   "execution_count": 2,
   "id": "a0496f07",
   "metadata": {
    "ExecuteTime": {
     "end_time": "2023-07-25T17:12:51.211947Z",
     "start_time": "2023-07-25T17:12:45.792146Z"
    }
   },
   "outputs": [],
   "source": [
    "import numpy as np \n",
    "import pandas as pd \n",
    "import matplotlib.pyplot as plt\n",
    "import seaborn as sns\n"
   ]
  },
  {
   "cell_type": "code",
   "execution_count": 3,
   "id": "0d38db32",
   "metadata": {
    "ExecuteTime": {
     "end_time": "2023-07-25T17:12:52.697694Z",
     "start_time": "2023-07-25T17:12:51.215940Z"
    }
   },
   "outputs": [
    {
     "data": {
      "text/html": [
       "<div>\n",
       "<style scoped>\n",
       "    .dataframe tbody tr th:only-of-type {\n",
       "        vertical-align: middle;\n",
       "    }\n",
       "\n",
       "    .dataframe tbody tr th {\n",
       "        vertical-align: top;\n",
       "    }\n",
       "\n",
       "    .dataframe thead th {\n",
       "        text-align: right;\n",
       "    }\n",
       "</style>\n",
       "<table border=\"1\" class=\"dataframe\">\n",
       "  <thead>\n",
       "    <tr style=\"text-align: right;\">\n",
       "      <th></th>\n",
       "      <th>OrderNumber</th>\n",
       "      <th>Sales Channel</th>\n",
       "      <th>WarehouseCode</th>\n",
       "      <th>OrderDate</th>\n",
       "      <th>_SalesTeamID</th>\n",
       "      <th>_CustomerID</th>\n",
       "      <th>_StoreID</th>\n",
       "      <th>_ProductID</th>\n",
       "      <th>Order Quantity</th>\n",
       "      <th>Discount Applied</th>\n",
       "      <th>Unit Price</th>\n",
       "      <th>Unit Cost</th>\n",
       "    </tr>\n",
       "  </thead>\n",
       "  <tbody>\n",
       "    <tr>\n",
       "      <th>0</th>\n",
       "      <td>SO - 000101</td>\n",
       "      <td>In-Store</td>\n",
       "      <td>WARE-UHY1004</td>\n",
       "      <td>2018-05-31</td>\n",
       "      <td>6</td>\n",
       "      <td>15</td>\n",
       "      <td>259</td>\n",
       "      <td>12</td>\n",
       "      <td>5</td>\n",
       "      <td>0.075</td>\n",
       "      <td>1963.1</td>\n",
       "      <td>1001.181</td>\n",
       "    </tr>\n",
       "    <tr>\n",
       "      <th>1</th>\n",
       "      <td>SO - 000102</td>\n",
       "      <td>Online</td>\n",
       "      <td>WARE-NMK1003</td>\n",
       "      <td>2018-05-31</td>\n",
       "      <td>14</td>\n",
       "      <td>20</td>\n",
       "      <td>196</td>\n",
       "      <td>27</td>\n",
       "      <td>3</td>\n",
       "      <td>0.075</td>\n",
       "      <td>3939.6</td>\n",
       "      <td>3348.660</td>\n",
       "    </tr>\n",
       "    <tr>\n",
       "      <th>2</th>\n",
       "      <td>SO - 000103</td>\n",
       "      <td>Distributor</td>\n",
       "      <td>WARE-UHY1004</td>\n",
       "      <td>2018-05-31</td>\n",
       "      <td>21</td>\n",
       "      <td>16</td>\n",
       "      <td>213</td>\n",
       "      <td>16</td>\n",
       "      <td>1</td>\n",
       "      <td>0.050</td>\n",
       "      <td>1775.5</td>\n",
       "      <td>781.220</td>\n",
       "    </tr>\n",
       "    <tr>\n",
       "      <th>3</th>\n",
       "      <td>SO - 000104</td>\n",
       "      <td>Wholesale</td>\n",
       "      <td>WARE-NMK1003</td>\n",
       "      <td>2018-05-31</td>\n",
       "      <td>28</td>\n",
       "      <td>48</td>\n",
       "      <td>107</td>\n",
       "      <td>23</td>\n",
       "      <td>8</td>\n",
       "      <td>0.075</td>\n",
       "      <td>2324.9</td>\n",
       "      <td>1464.687</td>\n",
       "    </tr>\n",
       "    <tr>\n",
       "      <th>4</th>\n",
       "      <td>SO - 000105</td>\n",
       "      <td>Distributor</td>\n",
       "      <td>WARE-NMK1003</td>\n",
       "      <td>2018-05-31</td>\n",
       "      <td>22</td>\n",
       "      <td>49</td>\n",
       "      <td>111</td>\n",
       "      <td>26</td>\n",
       "      <td>8</td>\n",
       "      <td>0.100</td>\n",
       "      <td>1822.4</td>\n",
       "      <td>1476.144</td>\n",
       "    </tr>\n",
       "    <tr>\n",
       "      <th>...</th>\n",
       "      <td>...</td>\n",
       "      <td>...</td>\n",
       "      <td>...</td>\n",
       "      <td>...</td>\n",
       "      <td>...</td>\n",
       "      <td>...</td>\n",
       "      <td>...</td>\n",
       "      <td>...</td>\n",
       "      <td>...</td>\n",
       "      <td>...</td>\n",
       "      <td>...</td>\n",
       "      <td>...</td>\n",
       "    </tr>\n",
       "    <tr>\n",
       "      <th>7986</th>\n",
       "      <td>SO - 0008087</td>\n",
       "      <td>In-Store</td>\n",
       "      <td>WARE-MKL1006</td>\n",
       "      <td>2020-12-30</td>\n",
       "      <td>9</td>\n",
       "      <td>41</td>\n",
       "      <td>339</td>\n",
       "      <td>29</td>\n",
       "      <td>1</td>\n",
       "      <td>0.075</td>\n",
       "      <td>234.5</td>\n",
       "      <td>121.940</td>\n",
       "    </tr>\n",
       "    <tr>\n",
       "      <th>7987</th>\n",
       "      <td>SO - 0008088</td>\n",
       "      <td>Online</td>\n",
       "      <td>WARE-NMK1003</td>\n",
       "      <td>2020-12-30</td>\n",
       "      <td>14</td>\n",
       "      <td>29</td>\n",
       "      <td>202</td>\n",
       "      <td>3</td>\n",
       "      <td>6</td>\n",
       "      <td>0.050</td>\n",
       "      <td>3202.6</td>\n",
       "      <td>1921.560</td>\n",
       "    </tr>\n",
       "    <tr>\n",
       "      <th>7988</th>\n",
       "      <td>SO - 0008089</td>\n",
       "      <td>Online</td>\n",
       "      <td>WARE-UHY1004</td>\n",
       "      <td>2020-12-30</td>\n",
       "      <td>14</td>\n",
       "      <td>32</td>\n",
       "      <td>241</td>\n",
       "      <td>35</td>\n",
       "      <td>5</td>\n",
       "      <td>0.200</td>\n",
       "      <td>3825.7</td>\n",
       "      <td>2792.761</td>\n",
       "    </tr>\n",
       "    <tr>\n",
       "      <th>7989</th>\n",
       "      <td>SO - 0008090</td>\n",
       "      <td>Online</td>\n",
       "      <td>WARE-NMK1003</td>\n",
       "      <td>2020-12-30</td>\n",
       "      <td>20</td>\n",
       "      <td>42</td>\n",
       "      <td>112</td>\n",
       "      <td>36</td>\n",
       "      <td>8</td>\n",
       "      <td>0.100</td>\n",
       "      <td>1072.0</td>\n",
       "      <td>804.000</td>\n",
       "    </tr>\n",
       "    <tr>\n",
       "      <th>7990</th>\n",
       "      <td>SO - 0008091</td>\n",
       "      <td>In-Store</td>\n",
       "      <td>WARE-UHY1004</td>\n",
       "      <td>2020-12-30</td>\n",
       "      <td>6</td>\n",
       "      <td>41</td>\n",
       "      <td>237</td>\n",
       "      <td>43</td>\n",
       "      <td>5</td>\n",
       "      <td>0.075</td>\n",
       "      <td>2211.0</td>\n",
       "      <td>1370.820</td>\n",
       "    </tr>\n",
       "  </tbody>\n",
       "</table>\n",
       "<p>7991 rows × 12 columns</p>\n",
       "</div>"
      ],
      "text/plain": [
       "       OrderNumber Sales Channel WarehouseCode  OrderDate  _SalesTeamID  \\\n",
       "0      SO - 000101      In-Store  WARE-UHY1004 2018-05-31             6   \n",
       "1      SO - 000102        Online  WARE-NMK1003 2018-05-31            14   \n",
       "2      SO - 000103   Distributor  WARE-UHY1004 2018-05-31            21   \n",
       "3      SO - 000104     Wholesale  WARE-NMK1003 2018-05-31            28   \n",
       "4      SO - 000105   Distributor  WARE-NMK1003 2018-05-31            22   \n",
       "...            ...           ...           ...        ...           ...   \n",
       "7986  SO - 0008087      In-Store  WARE-MKL1006 2020-12-30             9   \n",
       "7987  SO - 0008088        Online  WARE-NMK1003 2020-12-30            14   \n",
       "7988  SO - 0008089        Online  WARE-UHY1004 2020-12-30            14   \n",
       "7989  SO - 0008090        Online  WARE-NMK1003 2020-12-30            20   \n",
       "7990  SO - 0008091      In-Store  WARE-UHY1004 2020-12-30             6   \n",
       "\n",
       "      _CustomerID  _StoreID  _ProductID  Order Quantity  Discount Applied  \\\n",
       "0              15       259          12               5             0.075   \n",
       "1              20       196          27               3             0.075   \n",
       "2              16       213          16               1             0.050   \n",
       "3              48       107          23               8             0.075   \n",
       "4              49       111          26               8             0.100   \n",
       "...           ...       ...         ...             ...               ...   \n",
       "7986           41       339          29               1             0.075   \n",
       "7987           29       202           3               6             0.050   \n",
       "7988           32       241          35               5             0.200   \n",
       "7989           42       112          36               8             0.100   \n",
       "7990           41       237          43               5             0.075   \n",
       "\n",
       "      Unit Price  Unit Cost  \n",
       "0         1963.1   1001.181  \n",
       "1         3939.6   3348.660  \n",
       "2         1775.5    781.220  \n",
       "3         2324.9   1464.687  \n",
       "4         1822.4   1476.144  \n",
       "...          ...        ...  \n",
       "7986       234.5    121.940  \n",
       "7987      3202.6   1921.560  \n",
       "7988      3825.7   2792.761  \n",
       "7989      1072.0    804.000  \n",
       "7990      2211.0   1370.820  \n",
       "\n",
       "[7991 rows x 12 columns]"
      ]
     },
     "execution_count": 3,
     "metadata": {},
     "output_type": "execute_result"
    }
   ],
   "source": [
    "df_main = pd.read_excel('Datasets/fact (1).xlsx')\n",
    "df_main"
   ]
  },
  {
   "cell_type": "code",
   "execution_count": 4,
   "id": "57679cff",
   "metadata": {
    "ExecuteTime": {
     "end_time": "2023-07-25T17:12:52.718350Z",
     "start_time": "2023-07-25T17:12:52.699693Z"
    }
   },
   "outputs": [
    {
     "name": "stdout",
     "output_type": "stream",
     "text": [
      "<class 'pandas.core.frame.DataFrame'>\n",
      "RangeIndex: 7991 entries, 0 to 7990\n",
      "Data columns (total 12 columns):\n",
      " #   Column            Non-Null Count  Dtype         \n",
      "---  ------            --------------  -----         \n",
      " 0   OrderNumber       7991 non-null   object        \n",
      " 1   Sales Channel     7991 non-null   object        \n",
      " 2   WarehouseCode     7991 non-null   object        \n",
      " 3   OrderDate         7991 non-null   datetime64[ns]\n",
      " 4   _SalesTeamID      7991 non-null   int64         \n",
      " 5   _CustomerID       7991 non-null   int64         \n",
      " 6   _StoreID          7991 non-null   int64         \n",
      " 7   _ProductID        7991 non-null   int64         \n",
      " 8   Order Quantity    7991 non-null   int64         \n",
      " 9   Discount Applied  7991 non-null   float64       \n",
      " 10  Unit Price        7991 non-null   float64       \n",
      " 11  Unit Cost         7991 non-null   float64       \n",
      "dtypes: datetime64[ns](1), float64(3), int64(5), object(3)\n",
      "memory usage: 749.3+ KB\n"
     ]
    }
   ],
   "source": [
    "df_main.info()"
   ]
  },
  {
   "cell_type": "code",
   "execution_count": 5,
   "id": "74b865cd",
   "metadata": {
    "ExecuteTime": {
     "end_time": "2023-07-25T17:12:52.730291Z",
     "start_time": "2023-07-25T17:12:52.721347Z"
    }
   },
   "outputs": [],
   "source": [
    "df_main = df_main.drop(columns='WarehouseCode')"
   ]
  },
  {
   "cell_type": "code",
   "execution_count": 6,
   "id": "d7dd00e7",
   "metadata": {
    "ExecuteTime": {
     "end_time": "2023-07-25T17:12:52.739979Z",
     "start_time": "2023-07-25T17:12:52.733287Z"
    }
   },
   "outputs": [
    {
     "data": {
      "text/plain": [
       "(7991, 11)"
      ]
     },
     "execution_count": 6,
     "metadata": {},
     "output_type": "execute_result"
    }
   ],
   "source": [
    "df_main.shape"
   ]
  },
  {
   "cell_type": "code",
   "execution_count": 7,
   "id": "eeef444c",
   "metadata": {
    "ExecuteTime": {
     "end_time": "2023-07-25T17:12:52.758021Z",
     "start_time": "2023-07-25T17:12:52.742976Z"
    }
   },
   "outputs": [
    {
     "data": {
      "text/plain": [
       "0"
      ]
     },
     "execution_count": 7,
     "metadata": {},
     "output_type": "execute_result"
    }
   ],
   "source": [
    "df_main.duplicated().sum()"
   ]
  },
  {
   "cell_type": "code",
   "execution_count": 8,
   "id": "acfaa015",
   "metadata": {
    "ExecuteTime": {
     "end_time": "2023-07-25T17:12:52.771850Z",
     "start_time": "2023-07-25T17:12:52.760021Z"
    }
   },
   "outputs": [
    {
     "data": {
      "text/plain": [
       "OrderNumber         0\n",
       "Sales Channel       0\n",
       "OrderDate           0\n",
       "_SalesTeamID        0\n",
       "_CustomerID         0\n",
       "_StoreID            0\n",
       "_ProductID          0\n",
       "Order Quantity      0\n",
       "Discount Applied    0\n",
       "Unit Price          0\n",
       "Unit Cost           0\n",
       "dtype: int64"
      ]
     },
     "execution_count": 8,
     "metadata": {},
     "output_type": "execute_result"
    }
   ],
   "source": [
    "df_main.isna().sum()"
   ]
  },
  {
   "cell_type": "code",
   "execution_count": 9,
   "id": "edaeae65",
   "metadata": {
    "ExecuteTime": {
     "end_time": "2023-07-25T17:12:52.785906Z",
     "start_time": "2023-07-25T17:12:52.774847Z"
    }
   },
   "outputs": [
    {
     "data": {
      "text/plain": [
       "OrderNumber         0\n",
       "Sales Channel       0\n",
       "OrderDate           0\n",
       "_SalesTeamID        0\n",
       "_CustomerID         0\n",
       "_StoreID            0\n",
       "_ProductID          0\n",
       "Order Quantity      0\n",
       "Discount Applied    0\n",
       "Unit Price          0\n",
       "Unit Cost           0\n",
       "dtype: int64"
      ]
     },
     "execution_count": 9,
     "metadata": {},
     "output_type": "execute_result"
    }
   ],
   "source": [
    "df_main.isnull().sum()"
   ]
  },
  {
   "cell_type": "code",
   "execution_count": 10,
   "id": "58903f37",
   "metadata": {
    "ExecuteTime": {
     "end_time": "2023-07-25T17:12:52.812790Z",
     "start_time": "2023-07-25T17:12:52.788903Z"
    }
   },
   "outputs": [
    {
     "data": {
      "text/html": [
       "<div>\n",
       "<style scoped>\n",
       "    .dataframe tbody tr th:only-of-type {\n",
       "        vertical-align: middle;\n",
       "    }\n",
       "\n",
       "    .dataframe tbody tr th {\n",
       "        vertical-align: top;\n",
       "    }\n",
       "\n",
       "    .dataframe thead th {\n",
       "        text-align: right;\n",
       "    }\n",
       "</style>\n",
       "<table border=\"1\" class=\"dataframe\">\n",
       "  <thead>\n",
       "    <tr style=\"text-align: right;\">\n",
       "      <th></th>\n",
       "      <th>Unit Price</th>\n",
       "      <th>Unit Cost</th>\n",
       "      <th>Discount Applied</th>\n",
       "    </tr>\n",
       "  </thead>\n",
       "  <tbody>\n",
       "    <tr>\n",
       "      <th>count</th>\n",
       "      <td>7991.000000</td>\n",
       "      <td>7991.000000</td>\n",
       "      <td>7991.000000</td>\n",
       "    </tr>\n",
       "    <tr>\n",
       "      <th>mean</th>\n",
       "      <td>2284.536504</td>\n",
       "      <td>1431.911054</td>\n",
       "      <td>0.114394</td>\n",
       "    </tr>\n",
       "    <tr>\n",
       "      <th>std</th>\n",
       "      <td>1673.096364</td>\n",
       "      <td>1112.413043</td>\n",
       "      <td>0.085570</td>\n",
       "    </tr>\n",
       "    <tr>\n",
       "      <th>min</th>\n",
       "      <td>167.500000</td>\n",
       "      <td>68.675000</td>\n",
       "      <td>0.050000</td>\n",
       "    </tr>\n",
       "    <tr>\n",
       "      <th>25%</th>\n",
       "      <td>1031.800000</td>\n",
       "      <td>606.115500</td>\n",
       "      <td>0.050000</td>\n",
       "    </tr>\n",
       "    <tr>\n",
       "      <th>50%</th>\n",
       "      <td>1849.200000</td>\n",
       "      <td>1080.576000</td>\n",
       "      <td>0.075000</td>\n",
       "    </tr>\n",
       "    <tr>\n",
       "      <th>75%</th>\n",
       "      <td>3611.300000</td>\n",
       "      <td>2040.250500</td>\n",
       "      <td>0.150000</td>\n",
       "    </tr>\n",
       "    <tr>\n",
       "      <th>max</th>\n",
       "      <td>6566.000000</td>\n",
       "      <td>5498.556000</td>\n",
       "      <td>0.400000</td>\n",
       "    </tr>\n",
       "  </tbody>\n",
       "</table>\n",
       "</div>"
      ],
      "text/plain": [
       "        Unit Price    Unit Cost  Discount Applied\n",
       "count  7991.000000  7991.000000       7991.000000\n",
       "mean   2284.536504  1431.911054          0.114394\n",
       "std    1673.096364  1112.413043          0.085570\n",
       "min     167.500000    68.675000          0.050000\n",
       "25%    1031.800000   606.115500          0.050000\n",
       "50%    1849.200000  1080.576000          0.075000\n",
       "75%    3611.300000  2040.250500          0.150000\n",
       "max    6566.000000  5498.556000          0.400000"
      ]
     },
     "execution_count": 10,
     "metadata": {},
     "output_type": "execute_result"
    }
   ],
   "source": [
    "df_main[['Unit Price','Unit Cost','Discount Applied']].describe()"
   ]
  },
  {
   "cell_type": "code",
   "execution_count": 11,
   "id": "6c1fba0b",
   "metadata": {
    "ExecuteTime": {
     "end_time": "2023-07-25T17:12:52.833625Z",
     "start_time": "2023-07-25T17:12:52.817758Z"
    }
   },
   "outputs": [
    {
     "data": {
      "text/html": [
       "<div>\n",
       "<style scoped>\n",
       "    .dataframe tbody tr th:only-of-type {\n",
       "        vertical-align: middle;\n",
       "    }\n",
       "\n",
       "    .dataframe tbody tr th {\n",
       "        vertical-align: top;\n",
       "    }\n",
       "\n",
       "    .dataframe thead th {\n",
       "        text-align: right;\n",
       "    }\n",
       "</style>\n",
       "<table border=\"1\" class=\"dataframe\">\n",
       "  <thead>\n",
       "    <tr style=\"text-align: right;\">\n",
       "      <th></th>\n",
       "      <th>OrderNumber</th>\n",
       "      <th>Sales Channel</th>\n",
       "      <th>OrderDate</th>\n",
       "      <th>_SalesTeamID</th>\n",
       "      <th>_CustomerID</th>\n",
       "      <th>_StoreID</th>\n",
       "      <th>_ProductID</th>\n",
       "      <th>Order Quantity</th>\n",
       "      <th>Discount Applied</th>\n",
       "      <th>Unit Price</th>\n",
       "      <th>Unit Cost</th>\n",
       "    </tr>\n",
       "  </thead>\n",
       "  <tbody>\n",
       "    <tr>\n",
       "      <th>0</th>\n",
       "      <td>SO - 000101</td>\n",
       "      <td>In-Store</td>\n",
       "      <td>2018-05-31</td>\n",
       "      <td>6</td>\n",
       "      <td>15</td>\n",
       "      <td>259</td>\n",
       "      <td>12</td>\n",
       "      <td>5</td>\n",
       "      <td>0.075</td>\n",
       "      <td>1963.1</td>\n",
       "      <td>1001.181</td>\n",
       "    </tr>\n",
       "    <tr>\n",
       "      <th>1</th>\n",
       "      <td>SO - 000102</td>\n",
       "      <td>Online</td>\n",
       "      <td>2018-05-31</td>\n",
       "      <td>14</td>\n",
       "      <td>20</td>\n",
       "      <td>196</td>\n",
       "      <td>27</td>\n",
       "      <td>3</td>\n",
       "      <td>0.075</td>\n",
       "      <td>3939.6</td>\n",
       "      <td>3348.660</td>\n",
       "    </tr>\n",
       "    <tr>\n",
       "      <th>2</th>\n",
       "      <td>SO - 000103</td>\n",
       "      <td>Distributor</td>\n",
       "      <td>2018-05-31</td>\n",
       "      <td>21</td>\n",
       "      <td>16</td>\n",
       "      <td>213</td>\n",
       "      <td>16</td>\n",
       "      <td>1</td>\n",
       "      <td>0.050</td>\n",
       "      <td>1775.5</td>\n",
       "      <td>781.220</td>\n",
       "    </tr>\n",
       "    <tr>\n",
       "      <th>3</th>\n",
       "      <td>SO - 000104</td>\n",
       "      <td>Wholesale</td>\n",
       "      <td>2018-05-31</td>\n",
       "      <td>28</td>\n",
       "      <td>48</td>\n",
       "      <td>107</td>\n",
       "      <td>23</td>\n",
       "      <td>8</td>\n",
       "      <td>0.075</td>\n",
       "      <td>2324.9</td>\n",
       "      <td>1464.687</td>\n",
       "    </tr>\n",
       "    <tr>\n",
       "      <th>4</th>\n",
       "      <td>SO - 000105</td>\n",
       "      <td>Distributor</td>\n",
       "      <td>2018-05-31</td>\n",
       "      <td>22</td>\n",
       "      <td>49</td>\n",
       "      <td>111</td>\n",
       "      <td>26</td>\n",
       "      <td>8</td>\n",
       "      <td>0.100</td>\n",
       "      <td>1822.4</td>\n",
       "      <td>1476.144</td>\n",
       "    </tr>\n",
       "  </tbody>\n",
       "</table>\n",
       "</div>"
      ],
      "text/plain": [
       "   OrderNumber Sales Channel  OrderDate  _SalesTeamID  _CustomerID  _StoreID  \\\n",
       "0  SO - 000101      In-Store 2018-05-31             6           15       259   \n",
       "1  SO - 000102        Online 2018-05-31            14           20       196   \n",
       "2  SO - 000103   Distributor 2018-05-31            21           16       213   \n",
       "3  SO - 000104     Wholesale 2018-05-31            28           48       107   \n",
       "4  SO - 000105   Distributor 2018-05-31            22           49       111   \n",
       "\n",
       "   _ProductID  Order Quantity  Discount Applied  Unit Price  Unit Cost  \n",
       "0          12               5             0.075      1963.1   1001.181  \n",
       "1          27               3             0.075      3939.6   3348.660  \n",
       "2          16               1             0.050      1775.5    781.220  \n",
       "3          23               8             0.075      2324.9   1464.687  \n",
       "4          26               8             0.100      1822.4   1476.144  "
      ]
     },
     "execution_count": 11,
     "metadata": {},
     "output_type": "execute_result"
    }
   ],
   "source": [
    "df_main.head()"
   ]
  },
  {
   "cell_type": "code",
   "execution_count": 12,
   "id": "4927c548",
   "metadata": {
    "ExecuteTime": {
     "end_time": "2023-07-25T17:12:52.844622Z",
     "start_time": "2023-07-25T17:12:52.835625Z"
    }
   },
   "outputs": [],
   "source": [
    "df_main['Total Sales'] = df_main['Order Quantity'] * df_main['Unit Price']\n",
    "\n",
    "df_main['Total Costs'] = (df_main['Unit Cost'] + (df_main['Unit Price'] * df_main['Discount Applied'])) * df_main['Order Quantity']\n",
    "\n",
    "df_main['Total Revenue'] = df_main['Total Sales'] - df_main['Total Costs']\n",
    "\n",
    "df_main['Gross Margin %'] = (df_main['Total Sales'] - df_main['Total Costs'])/df_main['Total Sales']"
   ]
  },
  {
   "cell_type": "code",
   "execution_count": 13,
   "id": "1c909fbd",
   "metadata": {
    "ExecuteTime": {
     "end_time": "2023-07-25T17:12:52.868910Z",
     "start_time": "2023-07-25T17:12:52.850611Z"
    }
   },
   "outputs": [
    {
     "data": {
      "text/html": [
       "<div>\n",
       "<style scoped>\n",
       "    .dataframe tbody tr th:only-of-type {\n",
       "        vertical-align: middle;\n",
       "    }\n",
       "\n",
       "    .dataframe tbody tr th {\n",
       "        vertical-align: top;\n",
       "    }\n",
       "\n",
       "    .dataframe thead th {\n",
       "        text-align: right;\n",
       "    }\n",
       "</style>\n",
       "<table border=\"1\" class=\"dataframe\">\n",
       "  <thead>\n",
       "    <tr style=\"text-align: right;\">\n",
       "      <th></th>\n",
       "      <th>OrderNumber</th>\n",
       "      <th>Sales Channel</th>\n",
       "      <th>OrderDate</th>\n",
       "      <th>_SalesTeamID</th>\n",
       "      <th>_CustomerID</th>\n",
       "      <th>_StoreID</th>\n",
       "      <th>_ProductID</th>\n",
       "      <th>Order Quantity</th>\n",
       "      <th>Discount Applied</th>\n",
       "      <th>Unit Price</th>\n",
       "      <th>Unit Cost</th>\n",
       "      <th>Total Sales</th>\n",
       "      <th>Total Costs</th>\n",
       "      <th>Total Revenue</th>\n",
       "      <th>Gross Margin %</th>\n",
       "    </tr>\n",
       "  </thead>\n",
       "  <tbody>\n",
       "    <tr>\n",
       "      <th>0</th>\n",
       "      <td>SO - 000101</td>\n",
       "      <td>In-Store</td>\n",
       "      <td>2018-05-31</td>\n",
       "      <td>6</td>\n",
       "      <td>15</td>\n",
       "      <td>259</td>\n",
       "      <td>12</td>\n",
       "      <td>5</td>\n",
       "      <td>0.075</td>\n",
       "      <td>1963.1</td>\n",
       "      <td>1001.181</td>\n",
       "      <td>9815.5</td>\n",
       "      <td>5742.0675</td>\n",
       "      <td>4073.4325</td>\n",
       "      <td>0.415</td>\n",
       "    </tr>\n",
       "    <tr>\n",
       "      <th>1</th>\n",
       "      <td>SO - 000102</td>\n",
       "      <td>Online</td>\n",
       "      <td>2018-05-31</td>\n",
       "      <td>14</td>\n",
       "      <td>20</td>\n",
       "      <td>196</td>\n",
       "      <td>27</td>\n",
       "      <td>3</td>\n",
       "      <td>0.075</td>\n",
       "      <td>3939.6</td>\n",
       "      <td>3348.660</td>\n",
       "      <td>11818.8</td>\n",
       "      <td>10932.3900</td>\n",
       "      <td>886.4100</td>\n",
       "      <td>0.075</td>\n",
       "    </tr>\n",
       "    <tr>\n",
       "      <th>2</th>\n",
       "      <td>SO - 000103</td>\n",
       "      <td>Distributor</td>\n",
       "      <td>2018-05-31</td>\n",
       "      <td>21</td>\n",
       "      <td>16</td>\n",
       "      <td>213</td>\n",
       "      <td>16</td>\n",
       "      <td>1</td>\n",
       "      <td>0.050</td>\n",
       "      <td>1775.5</td>\n",
       "      <td>781.220</td>\n",
       "      <td>1775.5</td>\n",
       "      <td>869.9950</td>\n",
       "      <td>905.5050</td>\n",
       "      <td>0.510</td>\n",
       "    </tr>\n",
       "    <tr>\n",
       "      <th>3</th>\n",
       "      <td>SO - 000104</td>\n",
       "      <td>Wholesale</td>\n",
       "      <td>2018-05-31</td>\n",
       "      <td>28</td>\n",
       "      <td>48</td>\n",
       "      <td>107</td>\n",
       "      <td>23</td>\n",
       "      <td>8</td>\n",
       "      <td>0.075</td>\n",
       "      <td>2324.9</td>\n",
       "      <td>1464.687</td>\n",
       "      <td>18599.2</td>\n",
       "      <td>13112.4360</td>\n",
       "      <td>5486.7640</td>\n",
       "      <td>0.295</td>\n",
       "    </tr>\n",
       "    <tr>\n",
       "      <th>4</th>\n",
       "      <td>SO - 000105</td>\n",
       "      <td>Distributor</td>\n",
       "      <td>2018-05-31</td>\n",
       "      <td>22</td>\n",
       "      <td>49</td>\n",
       "      <td>111</td>\n",
       "      <td>26</td>\n",
       "      <td>8</td>\n",
       "      <td>0.100</td>\n",
       "      <td>1822.4</td>\n",
       "      <td>1476.144</td>\n",
       "      <td>14579.2</td>\n",
       "      <td>13267.0720</td>\n",
       "      <td>1312.1280</td>\n",
       "      <td>0.090</td>\n",
       "    </tr>\n",
       "  </tbody>\n",
       "</table>\n",
       "</div>"
      ],
      "text/plain": [
       "   OrderNumber Sales Channel  OrderDate  _SalesTeamID  _CustomerID  _StoreID  \\\n",
       "0  SO - 000101      In-Store 2018-05-31             6           15       259   \n",
       "1  SO - 000102        Online 2018-05-31            14           20       196   \n",
       "2  SO - 000103   Distributor 2018-05-31            21           16       213   \n",
       "3  SO - 000104     Wholesale 2018-05-31            28           48       107   \n",
       "4  SO - 000105   Distributor 2018-05-31            22           49       111   \n",
       "\n",
       "   _ProductID  Order Quantity  Discount Applied  Unit Price  Unit Cost  \\\n",
       "0          12               5             0.075      1963.1   1001.181   \n",
       "1          27               3             0.075      3939.6   3348.660   \n",
       "2          16               1             0.050      1775.5    781.220   \n",
       "3          23               8             0.075      2324.9   1464.687   \n",
       "4          26               8             0.100      1822.4   1476.144   \n",
       "\n",
       "   Total Sales  Total Costs  Total Revenue  Gross Margin %  \n",
       "0       9815.5    5742.0675      4073.4325           0.415  \n",
       "1      11818.8   10932.3900       886.4100           0.075  \n",
       "2       1775.5     869.9950       905.5050           0.510  \n",
       "3      18599.2   13112.4360      5486.7640           0.295  \n",
       "4      14579.2   13267.0720      1312.1280           0.090  "
      ]
     },
     "execution_count": 13,
     "metadata": {},
     "output_type": "execute_result"
    }
   ],
   "source": [
    "df_main.head()"
   ]
  },
  {
   "cell_type": "code",
   "execution_count": 14,
   "id": "de26c4de",
   "metadata": {
    "ExecuteTime": {
     "end_time": "2023-07-25T17:12:54.290587Z",
     "start_time": "2023-07-25T17:12:52.871907Z"
    }
   },
   "outputs": [
    {
     "ename": "KeyError",
     "evalue": "\"['WarehouseCode'] not found in axis\"",
     "output_type": "error",
     "traceback": [
      "\u001b[1;31m---------------------------------------------------------------------------\u001b[0m",
      "\u001b[1;31mKeyError\u001b[0m                                  Traceback (most recent call last)",
      "Cell \u001b[1;32mIn[14], line 1\u001b[0m\n\u001b[1;32m----> 1\u001b[0m df_main \u001b[38;5;241m=\u001b[39m \u001b[43mdf_main\u001b[49m\u001b[38;5;241;43m.\u001b[39;49m\u001b[43mdrop\u001b[49m\u001b[43m(\u001b[49m\u001b[43mcolumns\u001b[49m\u001b[38;5;241;43m=\u001b[39;49m\u001b[38;5;124;43m'\u001b[39;49m\u001b[38;5;124;43mWarehouseCode\u001b[39;49m\u001b[38;5;124;43m'\u001b[39;49m\u001b[43m)\u001b[49m\n",
      "File \u001b[1;32m~\\AppData\\Local\\Programs\\Python\\Python311\\Lib\\site-packages\\pandas\\core\\frame.py:5258\u001b[0m, in \u001b[0;36mDataFrame.drop\u001b[1;34m(self, labels, axis, index, columns, level, inplace, errors)\u001b[0m\n\u001b[0;32m   5110\u001b[0m \u001b[38;5;28;01mdef\u001b[39;00m \u001b[38;5;21mdrop\u001b[39m(\n\u001b[0;32m   5111\u001b[0m     \u001b[38;5;28mself\u001b[39m,\n\u001b[0;32m   5112\u001b[0m     labels: IndexLabel \u001b[38;5;241m=\u001b[39m \u001b[38;5;28;01mNone\u001b[39;00m,\n\u001b[1;32m   (...)\u001b[0m\n\u001b[0;32m   5119\u001b[0m     errors: IgnoreRaise \u001b[38;5;241m=\u001b[39m \u001b[38;5;124m\"\u001b[39m\u001b[38;5;124mraise\u001b[39m\u001b[38;5;124m\"\u001b[39m,\n\u001b[0;32m   5120\u001b[0m ) \u001b[38;5;241m-\u001b[39m\u001b[38;5;241m>\u001b[39m DataFrame \u001b[38;5;241m|\u001b[39m \u001b[38;5;28;01mNone\u001b[39;00m:\n\u001b[0;32m   5121\u001b[0m \u001b[38;5;250m    \u001b[39m\u001b[38;5;124;03m\"\"\"\u001b[39;00m\n\u001b[0;32m   5122\u001b[0m \u001b[38;5;124;03m    Drop specified labels from rows or columns.\u001b[39;00m\n\u001b[0;32m   5123\u001b[0m \n\u001b[1;32m   (...)\u001b[0m\n\u001b[0;32m   5256\u001b[0m \u001b[38;5;124;03m            weight  1.0     0.8\u001b[39;00m\n\u001b[0;32m   5257\u001b[0m \u001b[38;5;124;03m    \"\"\"\u001b[39;00m\n\u001b[1;32m-> 5258\u001b[0m     \u001b[38;5;28;01mreturn\u001b[39;00m \u001b[38;5;28;43msuper\u001b[39;49m\u001b[43m(\u001b[49m\u001b[43m)\u001b[49m\u001b[38;5;241;43m.\u001b[39;49m\u001b[43mdrop\u001b[49m\u001b[43m(\u001b[49m\n\u001b[0;32m   5259\u001b[0m \u001b[43m        \u001b[49m\u001b[43mlabels\u001b[49m\u001b[38;5;241;43m=\u001b[39;49m\u001b[43mlabels\u001b[49m\u001b[43m,\u001b[49m\n\u001b[0;32m   5260\u001b[0m \u001b[43m        \u001b[49m\u001b[43maxis\u001b[49m\u001b[38;5;241;43m=\u001b[39;49m\u001b[43maxis\u001b[49m\u001b[43m,\u001b[49m\n\u001b[0;32m   5261\u001b[0m \u001b[43m        \u001b[49m\u001b[43mindex\u001b[49m\u001b[38;5;241;43m=\u001b[39;49m\u001b[43mindex\u001b[49m\u001b[43m,\u001b[49m\n\u001b[0;32m   5262\u001b[0m \u001b[43m        \u001b[49m\u001b[43mcolumns\u001b[49m\u001b[38;5;241;43m=\u001b[39;49m\u001b[43mcolumns\u001b[49m\u001b[43m,\u001b[49m\n\u001b[0;32m   5263\u001b[0m \u001b[43m        \u001b[49m\u001b[43mlevel\u001b[49m\u001b[38;5;241;43m=\u001b[39;49m\u001b[43mlevel\u001b[49m\u001b[43m,\u001b[49m\n\u001b[0;32m   5264\u001b[0m \u001b[43m        \u001b[49m\u001b[43minplace\u001b[49m\u001b[38;5;241;43m=\u001b[39;49m\u001b[43minplace\u001b[49m\u001b[43m,\u001b[49m\n\u001b[0;32m   5265\u001b[0m \u001b[43m        \u001b[49m\u001b[43merrors\u001b[49m\u001b[38;5;241;43m=\u001b[39;49m\u001b[43merrors\u001b[49m\u001b[43m,\u001b[49m\n\u001b[0;32m   5266\u001b[0m \u001b[43m    \u001b[49m\u001b[43m)\u001b[49m\n",
      "File \u001b[1;32m~\\AppData\\Local\\Programs\\Python\\Python311\\Lib\\site-packages\\pandas\\core\\generic.py:4549\u001b[0m, in \u001b[0;36mNDFrame.drop\u001b[1;34m(self, labels, axis, index, columns, level, inplace, errors)\u001b[0m\n\u001b[0;32m   4547\u001b[0m \u001b[38;5;28;01mfor\u001b[39;00m axis, labels \u001b[38;5;129;01min\u001b[39;00m axes\u001b[38;5;241m.\u001b[39mitems():\n\u001b[0;32m   4548\u001b[0m     \u001b[38;5;28;01mif\u001b[39;00m labels \u001b[38;5;129;01mis\u001b[39;00m \u001b[38;5;129;01mnot\u001b[39;00m \u001b[38;5;28;01mNone\u001b[39;00m:\n\u001b[1;32m-> 4549\u001b[0m         obj \u001b[38;5;241m=\u001b[39m \u001b[43mobj\u001b[49m\u001b[38;5;241;43m.\u001b[39;49m\u001b[43m_drop_axis\u001b[49m\u001b[43m(\u001b[49m\u001b[43mlabels\u001b[49m\u001b[43m,\u001b[49m\u001b[43m \u001b[49m\u001b[43maxis\u001b[49m\u001b[43m,\u001b[49m\u001b[43m \u001b[49m\u001b[43mlevel\u001b[49m\u001b[38;5;241;43m=\u001b[39;49m\u001b[43mlevel\u001b[49m\u001b[43m,\u001b[49m\u001b[43m \u001b[49m\u001b[43merrors\u001b[49m\u001b[38;5;241;43m=\u001b[39;49m\u001b[43merrors\u001b[49m\u001b[43m)\u001b[49m\n\u001b[0;32m   4551\u001b[0m \u001b[38;5;28;01mif\u001b[39;00m inplace:\n\u001b[0;32m   4552\u001b[0m     \u001b[38;5;28mself\u001b[39m\u001b[38;5;241m.\u001b[39m_update_inplace(obj)\n",
      "File \u001b[1;32m~\\AppData\\Local\\Programs\\Python\\Python311\\Lib\\site-packages\\pandas\\core\\generic.py:4591\u001b[0m, in \u001b[0;36mNDFrame._drop_axis\u001b[1;34m(self, labels, axis, level, errors, only_slice)\u001b[0m\n\u001b[0;32m   4589\u001b[0m         new_axis \u001b[38;5;241m=\u001b[39m axis\u001b[38;5;241m.\u001b[39mdrop(labels, level\u001b[38;5;241m=\u001b[39mlevel, errors\u001b[38;5;241m=\u001b[39merrors)\n\u001b[0;32m   4590\u001b[0m     \u001b[38;5;28;01melse\u001b[39;00m:\n\u001b[1;32m-> 4591\u001b[0m         new_axis \u001b[38;5;241m=\u001b[39m \u001b[43maxis\u001b[49m\u001b[38;5;241;43m.\u001b[39;49m\u001b[43mdrop\u001b[49m\u001b[43m(\u001b[49m\u001b[43mlabels\u001b[49m\u001b[43m,\u001b[49m\u001b[43m \u001b[49m\u001b[43merrors\u001b[49m\u001b[38;5;241;43m=\u001b[39;49m\u001b[43merrors\u001b[49m\u001b[43m)\u001b[49m\n\u001b[0;32m   4592\u001b[0m     indexer \u001b[38;5;241m=\u001b[39m axis\u001b[38;5;241m.\u001b[39mget_indexer(new_axis)\n\u001b[0;32m   4594\u001b[0m \u001b[38;5;66;03m# Case for non-unique axis\u001b[39;00m\n\u001b[0;32m   4595\u001b[0m \u001b[38;5;28;01melse\u001b[39;00m:\n",
      "File \u001b[1;32m~\\AppData\\Local\\Programs\\Python\\Python311\\Lib\\site-packages\\pandas\\core\\indexes\\base.py:6699\u001b[0m, in \u001b[0;36mIndex.drop\u001b[1;34m(self, labels, errors)\u001b[0m\n\u001b[0;32m   6697\u001b[0m \u001b[38;5;28;01mif\u001b[39;00m mask\u001b[38;5;241m.\u001b[39many():\n\u001b[0;32m   6698\u001b[0m     \u001b[38;5;28;01mif\u001b[39;00m errors \u001b[38;5;241m!=\u001b[39m \u001b[38;5;124m\"\u001b[39m\u001b[38;5;124mignore\u001b[39m\u001b[38;5;124m\"\u001b[39m:\n\u001b[1;32m-> 6699\u001b[0m         \u001b[38;5;28;01mraise\u001b[39;00m \u001b[38;5;167;01mKeyError\u001b[39;00m(\u001b[38;5;124mf\u001b[39m\u001b[38;5;124m\"\u001b[39m\u001b[38;5;132;01m{\u001b[39;00m\u001b[38;5;28mlist\u001b[39m(labels[mask])\u001b[38;5;132;01m}\u001b[39;00m\u001b[38;5;124m not found in axis\u001b[39m\u001b[38;5;124m\"\u001b[39m)\n\u001b[0;32m   6700\u001b[0m     indexer \u001b[38;5;241m=\u001b[39m indexer[\u001b[38;5;241m~\u001b[39mmask]\n\u001b[0;32m   6701\u001b[0m \u001b[38;5;28;01mreturn\u001b[39;00m \u001b[38;5;28mself\u001b[39m\u001b[38;5;241m.\u001b[39mdelete(indexer)\n",
      "\u001b[1;31mKeyError\u001b[0m: \"['WarehouseCode'] not found in axis\""
     ]
    }
   ],
   "source": [
    "df_main = df_main.drop(columns='WarehouseCode')"
   ]
  },
  {
   "cell_type": "code",
   "execution_count": 20,
   "id": "a88fc30d",
   "metadata": {
    "ExecuteTime": {
     "end_time": "2023-07-25T18:37:36.691736Z",
     "start_time": "2023-07-25T18:37:36.685496Z"
    }
   },
   "outputs": [
    {
     "data": {
      "text/plain": [
       "82692726.6"
      ]
     },
     "execution_count": 20,
     "metadata": {},
     "output_type": "execute_result"
    }
   ],
   "source": [
    "df_main['Total Sales'].sum()"
   ]
  },
  {
   "cell_type": "code",
   "execution_count": null,
   "id": "c423da02",
   "metadata": {},
   "outputs": [],
   "source": []
  }
 ],
 "metadata": {
  "kernelspec": {
   "display_name": "Python 3 (ipykernel)",
   "language": "python",
   "name": "python3"
  },
  "language_info": {
   "codemirror_mode": {
    "name": "ipython",
    "version": 3
   },
   "file_extension": ".py",
   "mimetype": "text/x-python",
   "name": "python",
   "nbconvert_exporter": "python",
   "pygments_lexer": "ipython3",
   "version": "3.11.4"
  },
  "nbTranslate": {
   "displayLangs": [
    "*"
   ],
   "hotkey": "alt-t",
   "langInMainMenu": true,
   "sourceLang": "en",
   "targetLang": "fr",
   "useGoogleTranslate": true
  },
  "toc": {
   "base_numbering": 1,
   "nav_menu": {},
   "number_sections": true,
   "sideBar": true,
   "skip_h1_title": false,
   "title_cell": "Table of Contents",
   "title_sidebar": "Contents",
   "toc_cell": false,
   "toc_position": {},
   "toc_section_display": true,
   "toc_window_display": false
  },
  "varInspector": {
   "cols": {
    "lenName": 16,
    "lenType": 16,
    "lenVar": 40
   },
   "kernels_config": {
    "python": {
     "delete_cmd_postfix": "",
     "delete_cmd_prefix": "del ",
     "library": "var_list.py",
     "varRefreshCmd": "print(var_dic_list())"
    },
    "r": {
     "delete_cmd_postfix": ") ",
     "delete_cmd_prefix": "rm(",
     "library": "var_list.r",
     "varRefreshCmd": "cat(var_dic_list()) "
    }
   },
   "types_to_exclude": [
    "module",
    "function",
    "builtin_function_or_method",
    "instance",
    "_Feature"
   ],
   "window_display": false
  }
 },
 "nbformat": 4,
 "nbformat_minor": 5
}
